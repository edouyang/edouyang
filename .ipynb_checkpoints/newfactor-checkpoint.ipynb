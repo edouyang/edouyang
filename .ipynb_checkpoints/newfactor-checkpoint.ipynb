{
 "cells": [
  {
   "cell_type": "code",
   "execution_count": 12,
   "metadata": {},
   "outputs": [
    {
     "name": "stdout",
     "output_type": "stream",
     "text": [
      "(20475, 13)\n",
      "(20475, 1)\n"
     ]
    }
   ],
   "source": [
    "from fintech_analysis import Reader\n",
    "import seaborn as sns\n",
    "import matplotlib.pyplot as plt\n",
    "%matplotlib inline\n",
    "r = Reader()\n",
    "r.set_dir('dataset/newfactor')\n",
    "x_train, y_train = r.read(input_cols=range(2,15),\n",
    "                         output_cols=[1]\n",
    "                         )\n",
    "print(x_train.shape)\n",
    "print(y_train.shape)\n"
   ]
  },
  {
   "cell_type": "code",
   "execution_count": 13,
   "metadata": {},
   "outputs": [
    {
     "name": "stdout",
     "output_type": "stream",
     "text": [
      "_________________________________________________________________\n",
      "Layer (type)                 Output Shape              Param #   \n",
      "=================================================================\n",
      "input_3 (InputLayer)         (None, 13)                0         \n",
      "_________________________________________________________________\n",
      "dense_11 (Dense)             (None, 10)                140       \n",
      "_________________________________________________________________\n",
      "dense_12 (Dense)             (None, 10)                110       \n",
      "_________________________________________________________________\n",
      "dense_13 (Dense)             (None, 10)                110       \n",
      "_________________________________________________________________\n",
      "dense_14 (Dense)             (None, 10)                110       \n",
      "_________________________________________________________________\n",
      "dense_15 (Dense)             (None, 1)                 11        \n",
      "=================================================================\n",
      "Total params: 481\n",
      "Trainable params: 481\n",
      "Non-trainable params: 0\n",
      "_________________________________________________________________\n"
     ]
    }
   ],
   "source": [
    "from fintech_analysis.models import FeatureExtractModel\n",
    "model = FeatureExtractModel(batch_input_shape=(None, x_train.shape[1]), \n",
    "                        class_num=y_train.shape[1])\n",
    "model.summary()\n",
    "\n"
   ]
  },
  {
   "cell_type": "code",
   "execution_count": 14,
   "metadata": {},
   "outputs": [
    {
     "name": "stdout",
     "output_type": "stream",
     "text": [
      "Train on 14332 samples, validate on 6143 samples\n",
      "Epoch 1/1000\n",
      "14332/14332 [==============================] - 0s - loss: 64352.6218 - mean_squared_error: 82.9892 - val_loss: 84374.1411 - val_mean_squared_error: 90.2862\n",
      "Epoch 2/1000\n",
      "14332/14332 [==============================] - 0s - loss: 57408.3376 - mean_squared_error: 82.9892 - val_loss: 75641.1267 - val_mean_squared_error: 90.2862\n",
      "Epoch 3/1000\n",
      "14332/14332 [==============================] - 0s - loss: 53012.5158 - mean_squared_error: 82.9892 - val_loss: 70337.4986 - val_mean_squared_error: 90.2862\n",
      "Epoch 4/1000\n",
      "14332/14332 [==============================] - 0s - loss: 50599.3367 - mean_squared_error: 82.9892 - val_loss: 66827.5125 - val_mean_squared_error: 90.2862\n",
      "Epoch 5/1000\n",
      "14332/14332 [==============================] - 0s - loss: 47110.5605 - mean_squared_error: 82.9892 - val_loss: 62013.9721 - val_mean_squared_error: 90.2862\n",
      "Epoch 6/1000\n",
      "14332/14332 [==============================] - 0s - loss: 42904.0119 - mean_squared_error: 82.9892 - val_loss: 56781.0145 - val_mean_squared_error: 90.2862\n",
      "Epoch 7/1000\n",
      "14332/14332 [==============================] - 0s - loss: 39959.4688 - mean_squared_error: 82.9892 - val_loss: 53035.8393 - val_mean_squared_error: 90.2862\n",
      "Epoch 8/1000\n",
      "14332/14332 [==============================] - 0s - loss: 37421.1569 - mean_squared_error: 82.9892 - val_loss: 49795.1729 - val_mean_squared_error: 90.2862\n",
      "Epoch 9/1000\n",
      "14332/14332 [==============================] - 0s - loss: 35852.3537 - mean_squared_error: 82.9892 - val_loss: 47097.2995 - val_mean_squared_error: 90.2862\n",
      "Epoch 10/1000\n",
      "14332/14332 [==============================] - 0s - loss: 33602.1371 - mean_squared_error: 82.9892 - val_loss: 43719.2465 - val_mean_squared_error: 90.2862\n",
      "Epoch 11/1000\n",
      "14332/14332 [==============================] - 0s - loss: 29834.9516 - mean_squared_error: 82.9892 - val_loss: 39264.9848 - val_mean_squared_error: 90.2862\n",
      "Epoch 12/1000\n",
      "14332/14332 [==============================] - 0s - loss: 27938.7964 - mean_squared_error: 82.9892 - val_loss: 36639.1329 - val_mean_squared_error: 90.2862\n",
      "Epoch 13/1000\n",
      "14332/14332 [==============================] - 0s - loss: 25827.3709 - mean_squared_error: 82.9892 - val_loss: 34042.2419 - val_mean_squared_error: 90.2862\n",
      "Epoch 14/1000\n",
      "14332/14332 [==============================] - 0s - loss: 23970.5319 - mean_squared_error: 82.9892 - val_loss: 30993.6813 - val_mean_squared_error: 90.2862\n",
      "Epoch 15/1000\n",
      "14332/14332 [==============================] - 0s - loss: 21170.4987 - mean_squared_error: 82.9892 - val_loss: 27753.5751 - val_mean_squared_error: 90.2862\n",
      "Epoch 16/1000\n",
      "14332/14332 [==============================] - 0s - loss: 19950.6564 - mean_squared_error: 82.9892 - val_loss: 25968.3834 - val_mean_squared_error: 90.2862\n",
      "Epoch 17/1000\n",
      "14332/14332 [==============================] - 0s - loss: 17780.3042 - mean_squared_error: 82.9892 - val_loss: 23164.8560 - val_mean_squared_error: 90.2862\n",
      "Epoch 18/1000\n",
      "14332/14332 [==============================] - 0s - loss: 15947.0978 - mean_squared_error: 82.9892 - val_loss: 20884.0260 - val_mean_squared_error: 90.2862\n",
      "Epoch 19/1000\n",
      "14332/14332 [==============================] - 0s - loss: 14831.4967 - mean_squared_error: 82.9892 - val_loss: 19470.3488 - val_mean_squared_error: 90.2862\n",
      "Epoch 20/1000\n",
      "14332/14332 [==============================] - 0s - loss: 13496.5310 - mean_squared_error: 82.9892 - val_loss: 17730.7663 - val_mean_squared_error: 90.2862\n",
      "Epoch 21/1000\n",
      "14332/14332 [==============================] - 0s - loss: 12411.6742 - mean_squared_error: 82.9892 - val_loss: 15808.6101 - val_mean_squared_error: 90.2862\n",
      "Epoch 22/1000\n",
      "14332/14332 [==============================] - 0s - loss: 10675.8181 - mean_squared_error: 82.9892 - val_loss: 13917.8398 - val_mean_squared_error: 90.2862\n",
      "Epoch 23/1000\n",
      "14332/14332 [==============================] - 0s - loss: 9790.1063 - mean_squared_error: 82.9892 - val_loss: 12726.0416 - val_mean_squared_error: 90.2862\n",
      "Epoch 24/1000\n",
      "14332/14332 [==============================] - 0s - loss: 9032.7319 - mean_squared_error: 82.9892 - val_loss: 11516.1058 - val_mean_squared_error: 90.2862\n",
      "Epoch 25/1000\n",
      "14332/14332 [==============================] - 0s - loss: 7722.5677 - mean_squared_error: 82.9892 - val_loss: 9976.0895 - val_mean_squared_error: 90.2862\n",
      "Epoch 26/1000\n",
      "14332/14332 [==============================] - 0s - loss: 6996.8271 - mean_squared_error: 82.9892 - val_loss: 8604.4095 - val_mean_squared_error: 90.2862\n",
      "Epoch 27/1000\n",
      "14332/14332 [==============================] - 0s - loss: 5373.3340 - mean_squared_error: 82.9892 - val_loss: 6535.5667 - val_mean_squared_error: 90.2862\n",
      "Epoch 28/1000\n",
      "14332/14332 [==============================] - 0s - loss: 4581.5846 - mean_squared_error: 82.9892 - val_loss: 5748.9722 - val_mean_squared_error: 90.2862\n",
      "Epoch 29/1000\n",
      "14332/14332 [==============================] - 0s - loss: 3799.0952 - mean_squared_error: 82.9892 - val_loss: 4822.6132 - val_mean_squared_error: 90.2862\n",
      "Epoch 30/1000\n",
      "14332/14332 [==============================] - 0s - loss: 3323.4003 - mean_squared_error: 82.9892 - val_loss: 4219.5131 - val_mean_squared_error: 90.2862\n",
      "Epoch 31/1000\n",
      "14332/14332 [==============================] - 0s - loss: 2588.3690 - mean_squared_error: 82.9892 - val_loss: 3109.8035 - val_mean_squared_error: 90.2862\n",
      "Epoch 32/1000\n",
      "14332/14332 [==============================] - 0s - loss: 1916.9273 - mean_squared_error: 82.9892 - val_loss: 2290.8096 - val_mean_squared_error: 90.2862\n",
      "Epoch 33/1000\n",
      "14332/14332 [==============================] - 0s - loss: 1586.9276 - mean_squared_error: 82.9892 - val_loss: 1806.5313 - val_mean_squared_error: 90.2862\n",
      "Epoch 34/1000\n",
      "14332/14332 [==============================] - 0s - loss: 1216.9109 - mean_squared_error: 82.9892 - val_loss: 1410.6616 - val_mean_squared_error: 90.2862\n",
      "Epoch 35/1000\n",
      "14332/14332 [==============================] - 0s - loss: 832.9768 - mean_squared_error: 82.9892 - val_loss: 983.9467 - val_mean_squared_error: 90.2862\n",
      "Epoch 36/1000\n",
      "14332/14332 [==============================] - 0s - loss: 667.6031 - mean_squared_error: 82.9892 - val_loss: 713.3872 - val_mean_squared_error: 90.2862\n",
      "Epoch 37/1000\n",
      "14332/14332 [==============================] - 0s - loss: 431.1485 - mean_squared_error: 82.9892 - val_loss: 464.9819 - val_mean_squared_error: 90.2862\n",
      "Epoch 38/1000\n",
      "14332/14332 [==============================] - 0s - loss: 328.4719 - mean_squared_error: 82.9892 - val_loss: 346.9530 - val_mean_squared_error: 90.2862\n",
      "Epoch 39/1000\n",
      "14332/14332 [==============================] - 0s - loss: 226.6943 - mean_squared_error: 82.9892 - val_loss: 238.3632 - val_mean_squared_error: 90.2862\n",
      "Epoch 40/1000\n",
      "14332/14332 [==============================] - 0s - loss: 152.4452 - mean_squared_error: 82.9892 - val_loss: 156.2088 - val_mean_squared_error: 90.2862\n",
      "Epoch 41/1000\n",
      "14332/14332 [==============================] - 0s - loss: 112.2628 - mean_squared_error: 82.9892 - val_loss: 113.5255 - val_mean_squared_error: 90.2862\n",
      "Epoch 42/1000\n",
      "14332/14332 [==============================] - 0s - loss: 93.7438 - mean_squared_error: 82.9892 - val_loss: 95.1414 - val_mean_squared_error: 90.2862\n",
      "Epoch 43/1000\n",
      "14332/14332 [==============================] - 0s - loss: 83.7993 - mean_squared_error: 82.9892 - val_loss: 90.5883 - val_mean_squared_error: 90.2862\n",
      "Epoch 44/1000\n",
      "14332/14332 [==============================] - 0s - loss: 83.2154 - mean_squared_error: 82.9892 - val_loss: 90.4447 - val_mean_squared_error: 90.2862\n",
      "Epoch 45/1000\n",
      "14332/14332 [==============================] - 0s - loss: 83.1176 - mean_squared_error: 82.9892 - val_loss: 90.3824 - val_mean_squared_error: 90.2862\n",
      "Epoch 46/1000\n",
      "14332/14332 [==============================] - 0s - loss: 83.0694 - mean_squared_error: 82.9892 - val_loss: 90.3366 - val_mean_squared_error: 90.2862\n",
      "Epoch 47/1000\n",
      "14332/14332 [==============================] - 0s - loss: 83.0312 - mean_squared_error: 82.9892 - val_loss: 90.3125 - val_mean_squared_error: 90.2862\n",
      "Epoch 48/1000\n",
      "14332/14332 [==============================] - 0s - loss: 83.0167 - mean_squared_error: 82.9892 - val_loss: 90.3036 - val_mean_squared_error: 90.2862\n",
      "Epoch 49/1000\n"
     ]
    },
    {
     "name": "stdout",
     "output_type": "stream",
     "text": [
      "14332/14332 [==============================] - 0s - loss: 83.0065 - mean_squared_error: 82.9892 - val_loss: 90.2905 - val_mean_squared_error: 90.2862\n",
      "Epoch 50/1000\n",
      "14332/14332 [==============================] - 0s - loss: 83.0060 - mean_squared_error: 82.9892 - val_loss: 90.2876 - val_mean_squared_error: 90.2862\n",
      "Epoch 51/1000\n",
      "14332/14332 [==============================] - 0s - loss: 83.0124 - mean_squared_error: 82.9892 - val_loss: 90.2872 - val_mean_squared_error: 90.2862\n",
      "Epoch 52/1000\n",
      "14332/14332 [==============================] - 0s - loss: 82.9999 - mean_squared_error: 82.9892 - val_loss: 90.2873 - val_mean_squared_error: 90.2862\n",
      "Epoch 53/1000\n",
      "14332/14332 [==============================] - 0s - loss: 83.0062 - mean_squared_error: 82.9892 - val_loss: 90.3809 - val_mean_squared_error: 90.2862\n",
      "Epoch 54/1000\n",
      "14332/14332 [==============================] - 0s - loss: 82.9994 - mean_squared_error: 82.9892 - val_loss: 90.2878 - val_mean_squared_error: 90.2862\n",
      "Epoch 55/1000\n",
      "14332/14332 [==============================] - 0s - loss: 83.0020 - mean_squared_error: 82.9892 - val_loss: 90.2942 - val_mean_squared_error: 90.2862\n",
      "Epoch 56/1000\n",
      "14332/14332 [==============================] - 0s - loss: 83.0020 - mean_squared_error: 82.9892 - val_loss: 90.2998 - val_mean_squared_error: 90.2862\n",
      "Epoch 57/1000\n",
      "14332/14332 [==============================] - 0s - loss: 83.0136 - mean_squared_error: 82.9892 - val_loss: 90.2878 - val_mean_squared_error: 90.2862\n",
      "Epoch 58/1000\n",
      "14332/14332 [==============================] - 0s - loss: 82.9984 - mean_squared_error: 82.9892 - val_loss: 90.2871 - val_mean_squared_error: 90.2862\n",
      "Epoch 59/1000\n",
      "14332/14332 [==============================] - 0s - loss: 82.9939 - mean_squared_error: 82.9892 - val_loss: 90.2903 - val_mean_squared_error: 90.2862\n",
      "Epoch 60/1000\n",
      "14332/14332 [==============================] - 0s - loss: 83.0004 - mean_squared_error: 82.9892 - val_loss: 90.2872 - val_mean_squared_error: 90.2862\n",
      "Epoch 61/1000\n",
      "14332/14332 [==============================] - 0s - loss: 83.0055 - mean_squared_error: 82.9892 - val_loss: 90.2875 - val_mean_squared_error: 90.2862\n",
      "Epoch 62/1000\n",
      "14332/14332 [==============================] - 0s - loss: 83.0043 - mean_squared_error: 82.9892 - val_loss: 90.2868 - val_mean_squared_error: 90.2862\n",
      "Epoch 63/1000\n",
      "14332/14332 [==============================] - 0s - loss: 82.9975 - mean_squared_error: 82.9892 - val_loss: 90.2865 - val_mean_squared_error: 90.2862\n",
      "Epoch 64/1000\n",
      "14332/14332 [==============================] - 0s - loss: 82.9946 - mean_squared_error: 82.9892 - val_loss: 90.3618 - val_mean_squared_error: 90.2862\n",
      "Epoch 65/1000\n",
      "14332/14332 [==============================] - 0s - loss: 83.0066 - mean_squared_error: 82.9892 - val_loss: 90.2867 - val_mean_squared_error: 90.2862\n",
      "Epoch 66/1000\n",
      "14332/14332 [==============================] - 0s - loss: 82.9944 - mean_squared_error: 82.9892 - val_loss: 90.2870 - val_mean_squared_error: 90.2862\n",
      "Epoch 67/1000\n",
      "14332/14332 [==============================] - 0s - loss: 82.9994 - mean_squared_error: 82.9892 - val_loss: 90.2864 - val_mean_squared_error: 90.2862\n",
      "Epoch 68/1000\n",
      "14332/14332 [==============================] - 0s - loss: 82.9959 - mean_squared_error: 82.9892 - val_loss: 90.2864 - val_mean_squared_error: 90.2862\n",
      "Epoch 69/1000\n",
      "14332/14332 [==============================] - 0s - loss: 82.9947 - mean_squared_error: 82.9892 - val_loss: 90.2893 - val_mean_squared_error: 90.2862\n",
      "Epoch 70/1000\n",
      "14332/14332 [==============================] - 0s - loss: 82.9997 - mean_squared_error: 82.9892 - val_loss: 90.3282 - val_mean_squared_error: 90.2862\n",
      "Epoch 71/1000\n",
      "14332/14332 [==============================] - 0s - loss: 82.9932 - mean_squared_error: 82.9892 - val_loss: 90.3068 - val_mean_squared_error: 90.2862\n",
      "Epoch 72/1000\n",
      "14332/14332 [==============================] - 0s - loss: 83.0218 - mean_squared_error: 82.9892 - val_loss: 90.3519 - val_mean_squared_error: 90.2862\n",
      "Epoch 73/1000\n",
      "14332/14332 [==============================] - 0s - loss: 83.0004 - mean_squared_error: 82.9892 - val_loss: 90.2866 - val_mean_squared_error: 90.2862\n",
      "Epoch 74/1000\n",
      "14332/14332 [==============================] - 0s - loss: 82.9979 - mean_squared_error: 82.9892 - val_loss: 90.3207 - val_mean_squared_error: 90.2862\n",
      "Epoch 75/1000\n",
      "14332/14332 [==============================] - 0s - loss: 82.9948 - mean_squared_error: 82.9892 - val_loss: 90.2863 - val_mean_squared_error: 90.2862\n",
      "Epoch 76/1000\n",
      "14332/14332 [==============================] - 0s - loss: 82.9973 - mean_squared_error: 82.9892 - val_loss: 90.2863 - val_mean_squared_error: 90.2862\n",
      "Epoch 77/1000\n",
      "14332/14332 [==============================] - 0s - loss: 82.9940 - mean_squared_error: 82.9892 - val_loss: 90.2864 - val_mean_squared_error: 90.2862\n",
      "Epoch 78/1000\n",
      "14332/14332 [==============================] - 0s - loss: 82.9958 - mean_squared_error: 82.9892 - val_loss: 90.2941 - val_mean_squared_error: 90.2862\n",
      "Epoch 79/1000\n",
      "14332/14332 [==============================] - 0s - loss: 83.0154 - mean_squared_error: 82.9892 - val_loss: 90.2863 - val_mean_squared_error: 90.2862\n",
      "Epoch 80/1000\n",
      "14332/14332 [==============================] - 0s - loss: 83.0001 - mean_squared_error: 82.9892 - val_loss: 90.2892 - val_mean_squared_error: 90.2862\n",
      "Epoch 81/1000\n",
      "14332/14332 [==============================] - 0s - loss: 82.9948 - mean_squared_error: 82.9892 - val_loss: 90.3092 - val_mean_squared_error: 90.2862\n",
      "Epoch 82/1000\n",
      "14332/14332 [==============================] - 0s - loss: 82.9945 - mean_squared_error: 82.9892 - val_loss: 90.2863 - val_mean_squared_error: 90.2862\n",
      "Epoch 83/1000\n",
      "14332/14332 [==============================] - 0s - loss: 82.9999 - mean_squared_error: 82.9892 - val_loss: 90.2862 - val_mean_squared_error: 90.2862\n",
      "Epoch 84/1000\n",
      "14332/14332 [==============================] - 0s - loss: 83.0154 - mean_squared_error: 82.9892 - val_loss: 90.2878 - val_mean_squared_error: 90.2862\n",
      "Epoch 85/1000\n",
      "14332/14332 [==============================] - 0s - loss: 82.9922 - mean_squared_error: 82.9892 - val_loss: 90.2872 - val_mean_squared_error: 90.2862\n",
      "Epoch 86/1000\n",
      "14332/14332 [==============================] - 0s - loss: 83.0038 - mean_squared_error: 82.9892 - val_loss: 90.2863 - val_mean_squared_error: 90.2862\n",
      "Epoch 87/1000\n",
      "14332/14332 [==============================] - 0s - loss: 82.9932 - mean_squared_error: 82.9892 - val_loss: 90.2862 - val_mean_squared_error: 90.2862\n",
      "Epoch 88/1000\n",
      "14332/14332 [==============================] - 0s - loss: 83.0055 - mean_squared_error: 82.9892 - val_loss: 90.2862 - val_mean_squared_error: 90.2862\n",
      "Epoch 89/1000\n",
      "14332/14332 [==============================] - 0s - loss: 82.9951 - mean_squared_error: 82.9892 - val_loss: 90.2890 - val_mean_squared_error: 90.2862\n",
      "Epoch 90/1000\n",
      "14332/14332 [==============================] - 0s - loss: 82.9985 - mean_squared_error: 82.9892 - val_loss: 90.2866 - val_mean_squared_error: 90.2862\n",
      "Epoch 91/1000\n",
      "14332/14332 [==============================] - 0s - loss: 82.9960 - mean_squared_error: 82.9892 - val_loss: 90.2862 - val_mean_squared_error: 90.2862\n",
      "Epoch 92/1000\n",
      "14332/14332 [==============================] - 0s - loss: 82.9984 - mean_squared_error: 82.9892 - val_loss: 90.2865 - val_mean_squared_error: 90.2862\n",
      "Epoch 93/1000\n",
      "14332/14332 [==============================] - 0s - loss: 82.9998 - mean_squared_error: 82.9892 - val_loss: 90.2862 - val_mean_squared_error: 90.2862\n",
      "Epoch 94/1000\n",
      "14332/14332 [==============================] - 0s - loss: 83.0161 - mean_squared_error: 82.9892 - val_loss: 90.2862 - val_mean_squared_error: 90.2862\n",
      "Epoch 95/1000\n",
      "14332/14332 [==============================] - 0s - loss: 82.9955 - mean_squared_error: 82.9892 - val_loss: 90.2875 - val_mean_squared_error: 90.2862\n",
      "Epoch 96/1000\n",
      "14332/14332 [==============================] - 0s - loss: 82.9935 - mean_squared_error: 82.9892 - val_loss: 90.2862 - val_mean_squared_error: 90.2862\n",
      "Epoch 97/1000\n",
      "14332/14332 [==============================] - 0s - loss: 83.0003 - mean_squared_error: 82.9892 - val_loss: 90.2863 - val_mean_squared_error: 90.2862\n",
      "Epoch 98/1000\n",
      "14332/14332 [==============================] - 0s - loss: 83.0542 - mean_squared_error: 82.9892 - val_loss: 90.2862 - val_mean_squared_error: 90.2862\n",
      "Epoch 99/1000\n"
     ]
    },
    {
     "name": "stdout",
     "output_type": "stream",
     "text": [
      "14332/14332 [==============================] - 0s - loss: 82.9942 - mean_squared_error: 82.9892 - val_loss: 90.2862 - val_mean_squared_error: 90.2862\n",
      "Epoch 100/1000\n",
      "14332/14332 [==============================] - 0s - loss: 83.0002 - mean_squared_error: 82.9892 - val_loss: 90.2862 - val_mean_squared_error: 90.2862\n",
      "Epoch 101/1000\n",
      "14332/14332 [==============================] - 0s - loss: 83.0041 - mean_squared_error: 82.9892 - val_loss: 90.2863 - val_mean_squared_error: 90.2862\n",
      "Epoch 102/1000\n",
      "14332/14332 [==============================] - 0s - loss: 83.0036 - mean_squared_error: 82.9892 - val_loss: 90.2883 - val_mean_squared_error: 90.2862\n",
      "Epoch 103/1000\n",
      "14332/14332 [==============================] - 0s - loss: 83.0072 - mean_squared_error: 82.9892 - val_loss: 90.2875 - val_mean_squared_error: 90.2862\n",
      "Epoch 104/1000\n",
      "14332/14332 [==============================] - 0s - loss: 82.9932 - mean_squared_error: 82.9892 - val_loss: 90.2862 - val_mean_squared_error: 90.2862\n",
      "Epoch 105/1000\n",
      "14332/14332 [==============================] - 0s - loss: 83.0016 - mean_squared_error: 82.9892 - val_loss: 90.2863 - val_mean_squared_error: 90.2862\n",
      "Epoch 106/1000\n",
      "14332/14332 [==============================] - 0s - loss: 82.9929 - mean_squared_error: 82.9892 - val_loss: 90.2864 - val_mean_squared_error: 90.2862\n",
      "Epoch 107/1000\n",
      "14332/14332 [==============================] - 0s - loss: 82.9934 - mean_squared_error: 82.9892 - val_loss: 90.2865 - val_mean_squared_error: 90.2862\n",
      "Epoch 108/1000\n",
      "14332/14332 [==============================] - 0s - loss: 82.9960 - mean_squared_error: 82.9892 - val_loss: 90.3075 - val_mean_squared_error: 90.2862\n",
      "Epoch 109/1000\n",
      "14332/14332 [==============================] - 0s - loss: 83.0095 - mean_squared_error: 82.9892 - val_loss: 90.2865 - val_mean_squared_error: 90.2862\n",
      "Epoch 110/1000\n",
      "14332/14332 [==============================] - 0s - loss: 82.9944 - mean_squared_error: 82.9892 - val_loss: 90.2862 - val_mean_squared_error: 90.2862\n"
     ]
    },
    {
     "data": {
      "text/plain": [
       "<keras.callbacks.History at 0x7fa309541ef0>"
      ]
     },
     "execution_count": 14,
     "metadata": {},
     "output_type": "execute_result"
    }
   ],
   "source": [
    "import keras\n",
    "from keras.callbacks import EarlyStopping\n",
    "\n",
    "\n",
    "model.compile(loss=keras.losses.mean_squared_error,\n",
    "              optimizer=keras.optimizers.Adadelta(), metrics=['mse'])\n",
    "model.fit(x_train, y_train,\n",
    "             batch_size=64,\n",
    "             epochs=1000,\n",
    "             shuffle=True,\n",
    "             verbose=1,\n",
    "             validation_split=0.3,\n",
    "             callbacks=[EarlyStopping(patience=10)]\n",
    "            )"
   ]
  },
  {
   "cell_type": "code",
   "execution_count": 16,
   "metadata": {},
   "outputs": [
    {
     "data": {
      "text/plain": [
       "[<matplotlib.lines.Line2D at 0x7fa309432b38>]"
      ]
     },
     "execution_count": 16,
     "metadata": {},
     "output_type": "execute_result"
    },
    {
     "data": {
      "image/png": "[encoded data removed]",
      "text/plain": [
       "<matplotlib.figure.Figure at 0x7fa309432630>"
      ]
     },
     "metadata": {},
     "output_type": "display_data"
    }
   ],
   "source": [
    "plt.plot(model.history.history['loss'])\n",
    "plt.plot(model.history.history['val_loss'])"
   ]
  },
  {
   "cell_type": "code",
   "execution_count": null,
   "metadata": {
    "collapsed": true
   },
   "outputs": [],
   "source": []
  },
  {
   "cell_type": "code",
   "execution_count": null,
   "metadata": {
    "collapsed": true
   },
   "outputs": [],
   "source": []
  }
 ],
 "metadata": {
  "kernelspec": {
   "display_name": "Python 3",
   "language": "python",
   "name": "python3"
  },
  "language_info": {
   "codemirror_mode": {
    "name": "ipython",
    "version": 3
   },
   "file_extension": ".py",
   "mimetype": "text/x-python",
   "name": "python",
   "nbconvert_exporter": "python",
   "pygments_lexer": "ipython3",
   "version": "3.5.2"
  }
 },
 "nbformat": 4,
 "nbformat_minor": 2
}
