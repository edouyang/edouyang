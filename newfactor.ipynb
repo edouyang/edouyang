{
 "cells": [
  {
   "cell_type": "code",
   "execution_count": 20,
   "metadata": {
    "scrolled": true
   },
   "outputs": [
    {
     "name": "stdout",
     "output_type": "stream",
     "text": [
      "(20475, 13, 1)\n",
      "(20475, 1)\n"
     ]
    }
   ],
   "source": [
    "from fintech_analysis import Reader\n",
    "import seaborn as sns\n",
    "import matplotlib.pyplot as plt\n",
    "import numpy as np\n",
    "%matplotlib inline\n",
    "r = Reader()\n",
    "r.set_dir('dataset/newfactor')\n",
    "x_train, y_train = r.read(input_cols=range(2,15),\n",
    "                         output_cols=[1]\n",
    "                         )\n",
    "x_train = x_train.reshape(-1, x_train.shape[1], 1)\n",
    "print(x_train.shape)\n",
    "print(y_train.shape)\n"
   ]
  },
  {
   "cell_type": "code",
   "execution_count": 21,
   "metadata": {},
   "outputs": [
    {
     "name": "stdout",
     "output_type": "stream",
     "text": [
      "_________________________________________________________________\n",
      "Layer (type)                 Output Shape              Param #   \n",
      "=================================================================\n",
      "input_2 (InputLayer)         (None, 13, 1)             0         \n",
      "_________________________________________________________________\n",
      "locally_connected1d_2 (Local (None, 13, 1)             26        \n",
      "_________________________________________________________________\n",
      "flatten_2 (Flatten)          (None, 13)                0         \n",
      "_________________________________________________________________\n",
      "dense_5 (Dense)              (None, 10)                140       \n",
      "_________________________________________________________________\n",
      "leaky_re_lu_5 (LeakyReLU)    (None, 10)                0         \n",
      "_________________________________________________________________\n",
      "dense_6 (Dense)              (None, 10)                110       \n",
      "_________________________________________________________________\n",
      "leaky_re_lu_6 (LeakyReLU)    (None, 10)                0         \n",
      "_________________________________________________________________\n",
      "dense_7 (Dense)              (None, 10)                110       \n",
      "_________________________________________________________________\n",
      "leaky_re_lu_7 (LeakyReLU)    (None, 10)                0         \n",
      "_________________________________________________________________\n",
      "dense_8 (Dense)              (None, 1)                 11        \n",
      "_________________________________________________________________\n",
      "leaky_re_lu_8 (LeakyReLU)    (None, 1)                 0         \n",
      "=================================================================\n",
      "Total params: 397\n",
      "Trainable params: 397\n",
      "Non-trainable params: 0\n",
      "_________________________________________________________________\n"
     ]
    },
    {
     "name": "stderr",
     "output_type": "stream",
     "text": [
      "/home/yao/fintech_tutorial/fintech_analysis/models/models.py:45: UserWarning: Update your `LocallyConnected1D` call to the Keras 2 API: `LocallyConnected1D(1, activity_regularizer=<keras.reg..., activation=\"linear\", kernel_size=1)`\n",
      "  activity_regularizer=regularizers.l2(0.01))(inputs)\n"
     ]
    }
   ],
   "source": [
    "from fintech_analysis.models import FeatureExtractModel\n",
    "model = FeatureExtractModel(batch_input_shape=(None, x_train.shape[1], 1), \n",
    "                        class_num=y_train.shape[1])\n",
    "model.summary()\n",
    "\n"
   ]
  },
  {
   "cell_type": "code",
   "execution_count": 22,
   "metadata": {},
   "outputs": [
    {
     "name": "stdout",
     "output_type": "stream",
     "text": [
      "Train on 14332 samples, validate on 6143 samples\n",
      "Epoch 1/1000\n",
      "14332/14332 [==============================] - 0s - loss: 48910.1667 - mean_squared_error: 124.6281 - val_loss: 64429.2758 - val_mean_squared_error: 116.1556\n",
      "Epoch 2/1000\n",
      "14332/14332 [==============================] - 0s - loss: 46769.7092 - mean_squared_error: 103.1995 - val_loss: 62785.9275 - val_mean_squared_error: 104.1736\n",
      "Epoch 3/1000\n",
      "14332/14332 [==============================] - 0s - loss: 44747.7480 - mean_squared_error: 85.8920 - val_loss: 59819.0122 - val_mean_squared_error: 91.4156\n",
      "Epoch 4/1000\n",
      "14332/14332 [==============================] - 0s - loss: 43376.4495 - mean_squared_error: 78.8148 - val_loss: 58487.2561 - val_mean_squared_error: 85.9031\n",
      "Epoch 5/1000\n",
      "14332/14332 [==============================] - 0s - loss: 42030.0168 - mean_squared_error: 75.0421 - val_loss: 56493.3158 - val_mean_squared_error: 81.4705\n",
      "Epoch 6/1000\n",
      "14332/14332 [==============================] - 0s - loss: 40947.2707 - mean_squared_error: 72.3126 - val_loss: 55314.7096 - val_mean_squared_error: 79.0065\n",
      "Epoch 7/1000\n",
      "14332/14332 [==============================] - 0s - loss: 39949.4272 - mean_squared_error: 70.2786 - val_loss: 53881.4667 - val_mean_squared_error: 77.4554\n",
      "Epoch 8/1000\n",
      "14332/14332 [==============================] - 0s - loss: 38719.1185 - mean_squared_error: 68.8108 - val_loss: 52040.7625 - val_mean_squared_error: 75.9391\n",
      "Epoch 9/1000\n",
      "14332/14332 [==============================] - 0s - loss: 37561.9532 - mean_squared_error: 67.3792 - val_loss: 50462.1931 - val_mean_squared_error: 74.8877\n",
      "Epoch 10/1000\n",
      "14332/14332 [==============================] - 0s - loss: 36706.3549 - mean_squared_error: 66.1132 - val_loss: 49448.1288 - val_mean_squared_error: 73.7005\n",
      "Epoch 11/1000\n",
      "14332/14332 [==============================] - 0s - loss: 35555.7105 - mean_squared_error: 65.0741 - val_loss: 47840.6619 - val_mean_squared_error: 72.7759\n",
      "Epoch 12/1000\n",
      "14332/14332 [==============================] - 0s - loss: 34490.0493 - mean_squared_error: 64.0843 - val_loss: 46460.4305 - val_mean_squared_error: 72.1197\n",
      "Epoch 13/1000\n",
      "14332/14332 [==============================] - 0s - loss: 33413.5427 - mean_squared_error: 63.4137 - val_loss: 44954.3242 - val_mean_squared_error: 71.2630\n",
      "Epoch 14/1000\n",
      "14332/14332 [==============================] - 0s - loss: 32181.0383 - mean_squared_error: 62.7828 - val_loss: 43428.2861 - val_mean_squared_error: 70.7756\n",
      "Epoch 15/1000\n",
      "14332/14332 [==============================] - 0s - loss: 31528.4595 - mean_squared_error: 62.2457 - val_loss: 42404.5208 - val_mean_squared_error: 70.3036\n",
      "Epoch 16/1000\n",
      "14332/14332 [==============================] - 0s - loss: 30559.6252 - mean_squared_error: 61.7626 - val_loss: 41084.0652 - val_mean_squared_error: 69.7976\n",
      "Epoch 17/1000\n",
      "14332/14332 [==============================] - 0s - loss: 29728.5157 - mean_squared_error: 61.4060 - val_loss: 40013.7468 - val_mean_squared_error: 69.4478\n",
      "Epoch 18/1000\n",
      "14332/14332 [==============================] - 0s - loss: 28583.2206 - mean_squared_error: 61.0285 - val_loss: 38321.2146 - val_mean_squared_error: 68.9928\n",
      "Epoch 19/1000\n",
      "14332/14332 [==============================] - 0s - loss: 27538.3251 - mean_squared_error: 60.6945 - val_loss: 36929.5734 - val_mean_squared_error: 68.6628\n",
      "Epoch 20/1000\n",
      "14332/14332 [==============================] - 0s - loss: 26814.2241 - mean_squared_error: 60.3109 - val_loss: 35969.5969 - val_mean_squared_error: 68.3635\n",
      "Epoch 21/1000\n",
      "14332/14332 [==============================] - 0s - loss: 25554.7038 - mean_squared_error: 60.0272 - val_loss: 34192.3978 - val_mean_squared_error: 68.1030\n",
      "Epoch 22/1000\n",
      "14332/14332 [==============================] - 0s - loss: 24611.2341 - mean_squared_error: 59.7335 - val_loss: 33047.8052 - val_mean_squared_error: 67.7102\n",
      "Epoch 23/1000\n",
      "14332/14332 [==============================] - 0s - loss: 23956.6509 - mean_squared_error: 59.4100 - val_loss: 32211.6597 - val_mean_squared_error: 67.4132\n",
      "Epoch 24/1000\n",
      "14332/14332 [==============================] - 0s - loss: 22920.2668 - mean_squared_error: 59.1931 - val_loss: 30643.7751 - val_mean_squared_error: 67.2259\n",
      "Epoch 25/1000\n",
      "14332/14332 [==============================] - 0s - loss: 21967.7071 - mean_squared_error: 58.8673 - val_loss: 29270.3603 - val_mean_squared_error: 67.0303\n",
      "Epoch 26/1000\n",
      "14332/14332 [==============================] - 0s - loss: 21088.4432 - mean_squared_error: 58.7952 - val_loss: 28263.6821 - val_mean_squared_error: 66.5060\n",
      "Epoch 27/1000\n",
      "14332/14332 [==============================] - 0s - loss: 20365.3905 - mean_squared_error: 58.2212 - val_loss: 27344.8049 - val_mean_squared_error: 66.3526\n",
      "Epoch 28/1000\n",
      "14332/14332 [==============================] - 0s - loss: 19644.4325 - mean_squared_error: 58.0829 - val_loss: 26366.5063 - val_mean_squared_error: 66.0803\n",
      "Epoch 29/1000\n",
      "14332/14332 [==============================] - 0s - loss: 18920.5427 - mean_squared_error: 57.7668 - val_loss: 25359.4380 - val_mean_squared_error: 65.8009\n",
      "Epoch 30/1000\n",
      "14332/14332 [==============================] - 0s - loss: 18346.3187 - mean_squared_error: 57.6052 - val_loss: 24494.9164 - val_mean_squared_error: 65.5927\n",
      "Epoch 31/1000\n",
      "14332/14332 [==============================] - 0s - loss: 17508.7096 - mean_squared_error: 57.4644 - val_loss: 23469.1276 - val_mean_squared_error: 65.2735\n",
      "Epoch 32/1000\n",
      "14332/14332 [==============================] - 0s - loss: 16969.9559 - mean_squared_error: 57.0145 - val_loss: 22657.5125 - val_mean_squared_error: 64.9942\n",
      "Epoch 33/1000\n",
      "14332/14332 [==============================] - 0s - loss: 16145.7594 - mean_squared_error: 56.8285 - val_loss: 21537.6272 - val_mean_squared_error: 64.7501\n",
      "Epoch 34/1000\n",
      "14332/14332 [==============================] - 0s - loss: 15570.5003 - mean_squared_error: 56.6204 - val_loss: 20727.2514 - val_mean_squared_error: 64.4992\n",
      "Epoch 35/1000\n",
      "14332/14332 [==============================] - 0s - loss: 14526.7827 - mean_squared_error: 56.2535 - val_loss: 19212.9904 - val_mean_squared_error: 64.2531\n",
      "Epoch 36/1000\n",
      "14332/14332 [==============================] - 0s - loss: 13721.7171 - mean_squared_error: 56.0021 - val_loss: 18191.1558 - val_mean_squared_error: 63.9194\n",
      "Epoch 37/1000\n",
      "14332/14332 [==============================] - 0s - loss: 13130.4334 - mean_squared_error: 55.6900 - val_loss: 17595.3036 - val_mean_squared_error: 63.6534\n",
      "Epoch 38/1000\n",
      "14332/14332 [==============================] - 0s - loss: 12665.5002 - mean_squared_error: 55.3784 - val_loss: 16869.9316 - val_mean_squared_error: 63.3719\n",
      "Epoch 39/1000\n",
      "14332/14332 [==============================] - 0s - loss: 12084.7764 - mean_squared_error: 55.0544 - val_loss: 16069.6329 - val_mean_squared_error: 62.9262\n",
      "Epoch 40/1000\n",
      "14332/14332 [==============================] - 0s - loss: 11327.0139 - mean_squared_error: 54.7307 - val_loss: 15047.9149 - val_mean_squared_error: 62.5615\n",
      "Epoch 41/1000\n",
      "14332/14332 [==============================] - 0s - loss: 10856.3941 - mean_squared_error: 54.4076 - val_loss: 14372.5636 - val_mean_squared_error: 62.2423\n",
      "Epoch 42/1000\n",
      "14332/14332 [==============================] - 0s - loss: 10141.9807 - mean_squared_error: 54.1045 - val_loss: 13453.5691 - val_mean_squared_error: 61.9555\n",
      "Epoch 43/1000\n",
      "14332/14332 [==============================] - 0s - loss: 9619.1944 - mean_squared_error: 53.7889 - val_loss: 12815.3085 - val_mean_squared_error: 61.6220\n",
      "Epoch 44/1000\n",
      "14332/14332 [==============================] - 0s - loss: 9190.9697 - mean_squared_error: 53.4468 - val_loss: 12177.3011 - val_mean_squared_error: 61.2627\n",
      "Epoch 45/1000\n",
      "14332/14332 [==============================] - 0s - loss: 8602.0593 - mean_squared_error: 53.2424 - val_loss: 11405.7734 - val_mean_squared_error: 60.8676\n",
      "Epoch 46/1000\n",
      "14332/14332 [==============================] - 0s - loss: 8097.9674 - mean_squared_error: 52.7500 - val_loss: 10777.2039 - val_mean_squared_error: 60.5323\n",
      "Epoch 47/1000\n",
      "14332/14332 [==============================] - 0s - loss: 7734.3490 - mean_squared_error: 52.4525 - val_loss: 10277.2701 - val_mean_squared_error: 60.2267\n",
      "Epoch 48/1000\n"
     ]
    },
    {
     "name": "stdout",
     "output_type": "stream",
     "text": [
      "14332/14332 [==============================] - 0s - loss: 7271.6796 - mean_squared_error: 52.2058 - val_loss: 9613.7874 - val_mean_squared_error: 59.9260\n",
      "Epoch 49/1000\n",
      "14332/14332 [==============================] - 0s - loss: 6750.7558 - mean_squared_error: 51.9787 - val_loss: 8903.3304 - val_mean_squared_error: 59.7077\n",
      "Epoch 50/1000\n",
      "14332/14332 [==============================] - 0s - loss: 6193.5175 - mean_squared_error: 51.7264 - val_loss: 8045.8901 - val_mean_squared_error: 59.4056\n",
      "Epoch 51/1000\n",
      "14332/14332 [==============================] - 0s - loss: 5764.0367 - mean_squared_error: 51.5005 - val_loss: 7676.5375 - val_mean_squared_error: 59.1643\n",
      "Epoch 52/1000\n",
      "14332/14332 [==============================] - 0s - loss: 5484.4987 - mean_squared_error: 51.2294 - val_loss: 7222.9686 - val_mean_squared_error: 58.9104\n",
      "Epoch 53/1000\n",
      "14332/14332 [==============================] - 0s - loss: 5148.2173 - mean_squared_error: 51.0817 - val_loss: 6667.8874 - val_mean_squared_error: 58.7149\n",
      "Epoch 54/1000\n",
      "14332/14332 [==============================] - 0s - loss: 4690.0116 - mean_squared_error: 50.8278 - val_loss: 6125.4779 - val_mean_squared_error: 58.5074\n",
      "Epoch 55/1000\n",
      "14332/14332 [==============================] - 0s - loss: 4258.0768 - mean_squared_error: 50.7271 - val_loss: 5564.9070 - val_mean_squared_error: 58.2136\n",
      "Epoch 56/1000\n",
      "14332/14332 [==============================] - 0s - loss: 3869.7178 - mean_squared_error: 50.4122 - val_loss: 5013.3316 - val_mean_squared_error: 58.0558\n",
      "Epoch 57/1000\n",
      "14332/14332 [==============================] - 0s - loss: 3566.1497 - mean_squared_error: 50.2735 - val_loss: 4692.3710 - val_mean_squared_error: 57.8835\n",
      "Epoch 58/1000\n",
      "14332/14332 [==============================] - 0s - loss: 3329.1905 - mean_squared_error: 50.0984 - val_loss: 4364.9391 - val_mean_squared_error: 57.7079\n",
      "Epoch 59/1000\n",
      "14332/14332 [==============================] - 0s - loss: 3016.3036 - mean_squared_error: 49.9212 - val_loss: 3923.6810 - val_mean_squared_error: 57.5345\n",
      "Epoch 60/1000\n",
      "14332/14332 [==============================] - 0s - loss: 2782.7588 - mean_squared_error: 49.7084 - val_loss: 3604.2382 - val_mean_squared_error: 57.4008\n",
      "Epoch 61/1000\n",
      "14332/14332 [==============================] - 0s - loss: 2410.2271 - mean_squared_error: 49.6992 - val_loss: 3058.9933 - val_mean_squared_error: 57.1927\n",
      "Epoch 62/1000\n",
      "14332/14332 [==============================] - 0s - loss: 2166.9439 - mean_squared_error: 49.5052 - val_loss: 2831.9013 - val_mean_squared_error: 57.0269\n",
      "Epoch 63/1000\n",
      "14332/14332 [==============================] - 0s - loss: 1968.6189 - mean_squared_error: 49.4863 - val_loss: 2559.0938 - val_mean_squared_error: 56.9476\n",
      "Epoch 64/1000\n",
      "14332/14332 [==============================] - 0s - loss: 1772.6281 - mean_squared_error: 49.2842 - val_loss: 2251.5481 - val_mean_squared_error: 56.7983\n",
      "Epoch 65/1000\n",
      "14332/14332 [==============================] - 0s - loss: 1594.0320 - mean_squared_error: 49.2019 - val_loss: 2059.5781 - val_mean_squared_error: 56.6933\n",
      "Epoch 66/1000\n",
      "14332/14332 [==============================] - 0s - loss: 1428.6812 - mean_squared_error: 49.2202 - val_loss: 1814.8134 - val_mean_squared_error: 56.6512\n",
      "Epoch 67/1000\n",
      "14332/14332 [==============================] - 0s - loss: 1161.5900 - mean_squared_error: 49.0575 - val_loss: 1394.8793 - val_mean_squared_error: 56.6181\n",
      "Epoch 68/1000\n",
      "14332/14332 [==============================] - 0s - loss: 981.1236 - mean_squared_error: 48.9902 - val_loss: 1227.6725 - val_mean_squared_error: 56.5028\n",
      "Epoch 69/1000\n",
      "14332/14332 [==============================] - 0s - loss: 837.7327 - mean_squared_error: 48.9420 - val_loss: 1041.8745 - val_mean_squared_error: 56.3839\n",
      "Epoch 70/1000\n",
      "14332/14332 [==============================] - 0s - loss: 705.4683 - mean_squared_error: 48.8436 - val_loss: 863.2020 - val_mean_squared_error: 56.2937\n",
      "Epoch 71/1000\n",
      "14332/14332 [==============================] - 0s - loss: 576.6507 - mean_squared_error: 48.7932 - val_loss: 697.4308 - val_mean_squared_error: 56.2503\n",
      "Epoch 72/1000\n",
      "14332/14332 [==============================] - 0s - loss: 444.3264 - mean_squared_error: 48.7459 - val_loss: 526.5844 - val_mean_squared_error: 56.1813\n",
      "Epoch 73/1000\n",
      "14332/14332 [==============================] - 0s - loss: 342.6135 - mean_squared_error: 48.6985 - val_loss: 404.0273 - val_mean_squared_error: 56.1489\n",
      "Epoch 74/1000\n",
      "14332/14332 [==============================] - 0s - loss: 276.3992 - mean_squared_error: 48.6815 - val_loss: 305.0042 - val_mean_squared_error: 56.1291\n",
      "Epoch 75/1000\n",
      "14332/14332 [==============================] - 0s - loss: 198.7176 - mean_squared_error: 48.6541 - val_loss: 219.9447 - val_mean_squared_error: 56.1338\n",
      "Epoch 76/1000\n",
      "14332/14332 [==============================] - 0s - loss: 129.8753 - mean_squared_error: 48.6232 - val_loss: 133.0295 - val_mean_squared_error: 56.2397\n",
      "Epoch 77/1000\n",
      "14332/14332 [==============================] - 0s - loss: 95.8428 - mean_squared_error: 48.6143 - val_loss: 101.3878 - val_mean_squared_error: 56.1835\n",
      "Epoch 78/1000\n",
      "14332/14332 [==============================] - 0s - loss: 70.8388 - mean_squared_error: 48.6005 - val_loss: 74.6459 - val_mean_squared_error: 56.1209\n",
      "Epoch 79/1000\n",
      "14332/14332 [==============================] - 0s - loss: 54.5602 - mean_squared_error: 48.6228 - val_loss: 58.6414 - val_mean_squared_error: 56.2958\n",
      "Epoch 80/1000\n",
      "14332/14332 [==============================] - 0s - loss: 50.3306 - mean_squared_error: 48.6650 - val_loss: 57.8150 - val_mean_squared_error: 56.2954\n",
      "Epoch 81/1000\n",
      "14332/14332 [==============================] - 0s - loss: 50.1158 - mean_squared_error: 48.6189 - val_loss: 57.6759 - val_mean_squared_error: 56.1789\n",
      "Epoch 82/1000\n",
      "14332/14332 [==============================] - 0s - loss: 50.0078 - mean_squared_error: 48.5211 - val_loss: 57.5556 - val_mean_squared_error: 56.0930\n",
      "Epoch 83/1000\n",
      "14332/14332 [==============================] - 0s - loss: 49.8923 - mean_squared_error: 48.4344 - val_loss: 57.4496 - val_mean_squared_error: 56.0118\n",
      "Epoch 84/1000\n",
      "14332/14332 [==============================] - 0s - loss: 49.8007 - mean_squared_error: 48.3716 - val_loss: 57.3452 - val_mean_squared_error: 55.9090\n",
      "Epoch 85/1000\n",
      "14332/14332 [==============================] - 0s - loss: 49.6772 - mean_squared_error: 48.2551 - val_loss: 57.3784 - val_mean_squared_error: 55.9693\n",
      "Epoch 86/1000\n",
      "14332/14332 [==============================] - 0s - loss: 49.5959 - mean_squared_error: 48.2095 - val_loss: 57.1453 - val_mean_squared_error: 55.7700\n",
      "Epoch 87/1000\n",
      "14332/14332 [==============================] - 0s - loss: 49.4934 - mean_squared_error: 48.1232 - val_loss: 57.0621 - val_mean_squared_error: 55.6882\n",
      "Epoch 88/1000\n",
      "14332/14332 [==============================] - 0s - loss: 49.4063 - mean_squared_error: 48.0528 - val_loss: 56.9918 - val_mean_squared_error: 55.6601\n",
      "Epoch 89/1000\n",
      "14332/14332 [==============================] - 0s - loss: 49.3414 - mean_squared_error: 48.0101 - val_loss: 56.8793 - val_mean_squared_error: 55.5559\n",
      "Epoch 90/1000\n",
      "14332/14332 [==============================] - 0s - loss: 49.2539 - mean_squared_error: 47.9354 - val_loss: 56.8992 - val_mean_squared_error: 55.5425\n",
      "Epoch 91/1000\n",
      "14332/14332 [==============================] - 0s - loss: 49.1739 - mean_squared_error: 47.8648 - val_loss: 56.7614 - val_mean_squared_error: 55.4496\n",
      "Epoch 92/1000\n",
      "14332/14332 [==============================] - 0s - loss: 49.0791 - mean_squared_error: 47.7901 - val_loss: 56.6774 - val_mean_squared_error: 55.3968\n",
      "Epoch 93/1000\n",
      "14332/14332 [==============================] - 0s - loss: 49.0039 - mean_squared_error: 47.7376 - val_loss: 56.5909 - val_mean_squared_error: 55.3204\n",
      "Epoch 94/1000\n",
      "14332/14332 [==============================] - 0s - loss: 48.9257 - mean_squared_error: 47.6634 - val_loss: 56.4754 - val_mean_squared_error: 55.2149\n",
      "Epoch 95/1000\n",
      "14332/14332 [==============================] - 0s - loss: 48.7787 - mean_squared_error: 47.5123 - val_loss: 56.3654 - val_mean_squared_error: 55.0941\n",
      "Epoch 96/1000\n",
      "14332/14332 [==============================] - 0s - loss: 48.6550 - mean_squared_error: 47.3926 - val_loss: 56.1830 - val_mean_squared_error: 54.9103\n",
      "Epoch 97/1000\n"
     ]
    },
    {
     "name": "stdout",
     "output_type": "stream",
     "text": [
      "14332/14332 [==============================] - 0s - loss: 48.5384 - mean_squared_error: 47.2699 - val_loss: 56.1362 - val_mean_squared_error: 54.8359\n",
      "Epoch 98/1000\n",
      "14332/14332 [==============================] - 0s - loss: 48.4303 - mean_squared_error: 47.1587 - val_loss: 55.9731 - val_mean_squared_error: 54.7043\n",
      "Epoch 99/1000\n",
      "14332/14332 [==============================] - 0s - loss: 48.3298 - mean_squared_error: 47.0638 - val_loss: 55.8629 - val_mean_squared_error: 54.5980\n",
      "Epoch 100/1000\n",
      "14332/14332 [==============================] - 0s - loss: 48.2450 - mean_squared_error: 46.9841 - val_loss: 55.8121 - val_mean_squared_error: 54.5675\n",
      "Epoch 101/1000\n",
      "14332/14332 [==============================] - 0s - loss: 48.1544 - mean_squared_error: 46.8915 - val_loss: 55.8057 - val_mean_squared_error: 54.5629\n",
      "Epoch 102/1000\n",
      "14332/14332 [==============================] - 0s - loss: 48.1080 - mean_squared_error: 46.8721 - val_loss: 55.6677 - val_mean_squared_error: 54.4390\n",
      "Epoch 103/1000\n",
      "14332/14332 [==============================] - 0s - loss: 48.0092 - mean_squared_error: 46.7881 - val_loss: 55.8359 - val_mean_squared_error: 54.6018\n",
      "Epoch 104/1000\n",
      "14332/14332 [==============================] - 0s - loss: 47.9441 - mean_squared_error: 46.7330 - val_loss: 55.6972 - val_mean_squared_error: 54.3919\n",
      "Epoch 105/1000\n",
      "14332/14332 [==============================] - 0s - loss: 47.8348 - mean_squared_error: 46.6137 - val_loss: 55.5923 - val_mean_squared_error: 54.4045\n",
      "Epoch 106/1000\n",
      "14332/14332 [==============================] - 0s - loss: 47.7852 - mean_squared_error: 46.5884 - val_loss: 55.5217 - val_mean_squared_error: 54.3261\n",
      "Epoch 107/1000\n",
      "14332/14332 [==============================] - 0s - loss: 47.7131 - mean_squared_error: 46.5223 - val_loss: 55.4622 - val_mean_squared_error: 54.2816\n",
      "Epoch 108/1000\n",
      "14332/14332 [==============================] - 0s - loss: 47.6549 - mean_squared_error: 46.4725 - val_loss: 55.3123 - val_mean_squared_error: 54.1333\n",
      "Epoch 109/1000\n",
      "14332/14332 [==============================] - 0s - loss: 47.5784 - mean_squared_error: 46.4051 - val_loss: 55.4652 - val_mean_squared_error: 54.2639\n",
      "Epoch 110/1000\n",
      "14332/14332 [==============================] - 0s - loss: 47.5157 - mean_squared_error: 46.3348 - val_loss: 55.2702 - val_mean_squared_error: 54.1145\n",
      "Epoch 111/1000\n",
      "14332/14332 [==============================] - 0s - loss: 47.4218 - mean_squared_error: 46.2513 - val_loss: 55.2759 - val_mean_squared_error: 54.0857\n",
      "Epoch 112/1000\n",
      "14332/14332 [==============================] - 0s - loss: 47.3756 - mean_squared_error: 46.2253 - val_loss: 55.3535 - val_mean_squared_error: 54.1140\n",
      "Epoch 113/1000\n",
      "14332/14332 [==============================] - 0s - loss: 47.3099 - mean_squared_error: 46.1546 - val_loss: 55.1630 - val_mean_squared_error: 54.0120\n",
      "Epoch 114/1000\n",
      "14332/14332 [==============================] - 0s - loss: 47.2225 - mean_squared_error: 46.0831 - val_loss: 54.9519 - val_mean_squared_error: 53.8228\n",
      "Epoch 115/1000\n",
      "14332/14332 [==============================] - 0s - loss: 47.1014 - mean_squared_error: 45.9602 - val_loss: 55.0641 - val_mean_squared_error: 53.8945\n",
      "Epoch 116/1000\n",
      "14332/14332 [==============================] - 0s - loss: 47.0627 - mean_squared_error: 45.9333 - val_loss: 55.1066 - val_mean_squared_error: 53.9331\n",
      "Epoch 117/1000\n",
      "14332/14332 [==============================] - 0s - loss: 46.9936 - mean_squared_error: 45.8637 - val_loss: 54.9472 - val_mean_squared_error: 53.8106\n",
      "Epoch 118/1000\n",
      "14332/14332 [==============================] - 0s - loss: 46.9254 - mean_squared_error: 45.8102 - val_loss: 54.7708 - val_mean_squared_error: 53.6627\n",
      "Epoch 119/1000\n",
      "14332/14332 [==============================] - 0s - loss: 46.8535 - mean_squared_error: 45.7443 - val_loss: 54.9130 - val_mean_squared_error: 53.8046\n",
      "Epoch 120/1000\n",
      "14332/14332 [==============================] - 0s - loss: 46.7693 - mean_squared_error: 45.6626 - val_loss: 54.9327 - val_mean_squared_error: 53.7861\n",
      "Epoch 121/1000\n",
      "14332/14332 [==============================] - 0s - loss: 46.6648 - mean_squared_error: 45.5474 - val_loss: 54.6712 - val_mean_squared_error: 53.5789\n",
      "Epoch 122/1000\n",
      "14332/14332 [==============================] - 0s - loss: 46.6265 - mean_squared_error: 45.5285 - val_loss: 54.7822 - val_mean_squared_error: 53.6725\n",
      "Epoch 123/1000\n",
      "14332/14332 [==============================] - 0s - loss: 46.4884 - mean_squared_error: 45.3811 - val_loss: 54.5414 - val_mean_squared_error: 53.4445\n",
      "Epoch 124/1000\n",
      "14332/14332 [==============================] - 0s - loss: 46.4523 - mean_squared_error: 45.3450 - val_loss: 54.5095 - val_mean_squared_error: 53.4267\n",
      "Epoch 125/1000\n",
      "14332/14332 [==============================] - 0s - loss: 46.3898 - mean_squared_error: 45.2913 - val_loss: 54.6371 - val_mean_squared_error: 53.5281\n",
      "Epoch 126/1000\n",
      "14332/14332 [==============================] - 0s - loss: 46.3225 - mean_squared_error: 45.2216 - val_loss: 54.9001 - val_mean_squared_error: 53.6926\n",
      "Epoch 127/1000\n",
      "14332/14332 [==============================] - 0s - loss: 46.2415 - mean_squared_error: 45.1643 - val_loss: 54.9468 - val_mean_squared_error: 53.7168\n",
      "Epoch 128/1000\n",
      "14332/14332 [==============================] - 0s - loss: 46.1928 - mean_squared_error: 45.0961 - val_loss: 55.0182 - val_mean_squared_error: 53.7476\n"
     ]
    },
    {
     "data": {
      "text/plain": [
       "<keras.callbacks.History at 0x7f651033a048>"
      ]
     },
     "execution_count": 22,
     "metadata": {},
     "output_type": "execute_result"
    }
   ],
   "source": [
    "import keras\n",
    "from keras.callbacks import EarlyStopping\n",
    "\n",
    "\n",
    "model.compile(loss=keras.losses.mean_squared_error,\n",
    "              optimizer=keras.optimizers.Adadelta(), metrics=['mse'])\n",
    "model.fit(x_train, y_train,\n",
    "             batch_size=128,\n",
    "             epochs=1000,\n",
    "             shuffle=True,\n",
    "             verbose=1,\n",
    "             validation_split=0.3,\n",
    "             callbacks=[EarlyStopping(patience=3)]\n",
    "            )"
   ]
  },
  {
   "cell_type": "code",
   "execution_count": 23,
   "metadata": {},
   "outputs": [
    {
     "data": {
      "text/plain": [
       "[<matplotlib.lines.Line2D at 0x7f647d9c9b00>]"
      ]
     },
     "execution_count": 23,
     "metadata": {},
     "output_type": "execute_result"
    },
    {
     "data": {
      "image/png": "[encoded data removed]",
      "text/plain": [
       "<matplotlib.figure.Figure at 0x7f647d9c9a20>"
      ]
     },
     "metadata": {},
     "output_type": "display_data"
    }
   ],
   "source": [
    "plt.plot(model.history.history['loss'])\n",
    "plt.plot(model.history.history['val_loss'])"
   ]
  },
  {
   "cell_type": "code",
   "execution_count": 25,
   "metadata": {},
   "outputs": [
    {
     "name": "stdout",
     "output_type": "stream",
     "text": [
      "locally_connected1d_2\n"
     ]
    },
    {
     "data": {
      "image/png": "[encoded data removed]",
      "text/plain": [
       "<matplotlib.figure.Figure at 0x7f64b81417f0>"
      ]
     },
     "metadata": {},
     "output_type": "display_data"
    },
    {
     "name": "stdout",
     "output_type": "stream",
     "text": [
      "[[ 0.80817  ]\n",
      " [ 0.12863  ]\n",
      " [ 2.4682   ]\n",
      " [-2.7097   ]\n",
      " [ 3.3893   ]\n",
      " [ 0.57     ]\n",
      " [ 3.4      ]\n",
      " [-0.5      ]\n",
      " [-0.2      ]\n",
      " [-0.01     ]\n",
      " [ 0.041473 ]\n",
      " [-0.0097516]\n",
      " [ 4.608    ]]\n",
      "[-3.8488]\n",
      "[ 1.54452753]\n"
     ]
    }
   ],
   "source": [
    "num = 508\n",
    "layer_index = 1\n",
    "print(model.layers[layer_index].name)\n",
    "result = model.get_layer_output([x_train[num:num+1]], layer_index)[0]\n",
    "\n",
    "sns.heatmap(np.abs(result[0]), annot=True, cbar=False)\n",
    "plt.show()\n",
    "\n",
    "result = model.predict([x_train[num:num+1]])[0]\n",
    "\n",
    "print(x_train[num])\n",
    "print(y_train[num])\n",
    "print(result)\n"
   ]
  },
  {
   "cell_type": "code",
   "execution_count": null,
   "metadata": {
    "collapsed": true
   },
   "outputs": [],
   "source": []
  },
  {
   "cell_type": "code",
   "execution_count": null,
   "metadata": {
    "collapsed": true
   },
   "outputs": [],
   "source": []
  }
 ],
 "metadata": {
  "kernelspec": {
   "display_name": "Python 3",
   "language": "python",
   "name": "python3"
  },
  "language_info": {
   "codemirror_mode": {
    "name": "ipython",
    "version": 3
   },
   "file_extension": ".py",
   "mimetype": "text/x-python",
   "name": "python",
   "nbconvert_exporter": "python",
   "pygments_lexer": "ipython3",
   "version": "3.5.2"
  }
 },
 "nbformat": 4,
 "nbformat_minor": 2
}
